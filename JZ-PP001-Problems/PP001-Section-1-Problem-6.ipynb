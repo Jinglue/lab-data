{
 "cells": [
  {
   "cell_type": "markdown",
   "metadata": {},
   "source": [
    "# “查重”编码器\n",
    "\n",
    "> 题目来自 CodeWars [Duplicate Encoder](https://www.codewars.com/kata/duplicate-encoder)\n",
    "\n",
    "完成函数 `duplicate_encode(word)`，对字符串 `word` 进行编码，对于字符串中的每一个字符：\n",
    "\n",
    "* 如果字符出现次数为 1，把字符编码为 `(`\n",
    "* 如果字符出现不止 1 次，把字符编码为 `)`\n",
    "\n",
    "返回编码后的字符串。同一字母的大小写视为相同的字符，如 `Aa` 视为 `a` 出现 2 次，编码为 `))`。"
   ]
  },
  {
   "cell_type": "markdown",
   "metadata": {
    "nbgrader": {
     "grade": false,
     "grade_id": "notice",
     "locked": true,
     "schema_version": 1,
     "solution": false
    }
   },
   "source": [
    "请从 `# YOUR CODE HERE` 下方另起一行填写你的答案。\n",
    "\n",
    "**注意**，不要删除 `# YOUR CODE HERE` 注释。"
   ]
  },
  {
   "cell_type": "code",
   "execution_count": 18,
   "metadata": {
    "nbgrader": {
     "grade": false,
     "grade_id": "encode",
     "locked": false,
     "schema_version": 1,
     "solution": true
    }
   },
   "outputs": [],
   "source": [
    "def duplicate_encode(word):\n",
    "    ### BEGIN SOLUTION\n",
    "    lower_word = word.lower()\n",
    "    return ''.join('(' if lower_word.count(char) == 1 else ')' for char in lower_word)\n",
    "    ### END SOLUTION"
   ]
  },
  {
   "cell_type": "markdown",
   "metadata": {
    "nbgrader": {
     "grade": false,
     "grade_id": "test_notice",
     "locked": true,
     "schema_version": 1,
     "solution": false
    }
   },
   "source": [
    "提交前请你确保下列 cell 运行时不报错。"
   ]
  },
  {
   "cell_type": "code",
   "execution_count": 19,
   "metadata": {
    "nbgrader": {
     "grade": true,
     "grade_id": "lowercase",
     "locked": true,
     "points": 20,
     "schema_version": 1,
     "solution": false
    }
   },
   "outputs": [],
   "source": [
    "assert duplicate_encode(\"din\") == \"(((\"\n",
    "assert duplicate_encode(\"dad\") == \")()\"\n",
    "### BEGIN HIDDEN TESTS\n",
    "assert duplicate_encode(\"din\") == \"(((\"\n",
    "assert duplicate_encode(\"big\") == \"(((\"\n",
    "assert duplicate_encode(\"dad\") == \")()\"\n",
    "assert duplicate_encode(\"bab\") == \")()\"\n",
    "### END HIDDEN TESTS"
   ]
  },
  {
   "cell_type": "code",
   "execution_count": 20,
   "metadata": {
    "nbgrader": {
     "grade": true,
     "grade_id": "mixcase",
     "locked": true,
     "points": 30,
     "schema_version": 1,
     "solution": false
    }
   },
   "outputs": [],
   "source": [
    "assert duplicate_encode(\"Recede\") == \"()()()\"\n",
    "### BEGIN HIDDEN TESTS\n",
    "assert duplicate_encode(\"Recede\") == \"()()()\"\n",
    "assert duplicate_encode(\"Big\") == \"(((\"\n",
    "assert duplicate_encode(\"Dad\") == \")()\"\n",
    "### END HIDDEN TESTS"
   ]
  },
  {
   "cell_type": "code",
   "execution_count": 21,
   "metadata": {
    "nbgrader": {
     "grade": true,
     "grade_id": "complex",
     "locked": true,
     "points": 50,
     "schema_version": 1,
     "solution": false
    }
   },
   "outputs": [],
   "source": [
    "assert duplicate_encode(\"Success\") == \")())())\"\n",
    "assert duplicate_encode(\"(( @\") == \"))((\"\n",
    "### BEGIN HIDDEN TESTS\n",
    "assert duplicate_encode(\"Successs\") == \")())()))\"\n",
    "assert duplicate_encode(\"(( @\") == \"))((\"\n",
    "### END HIDDEN TESTS"
   ]
  },
  {
   "cell_type": "code",
   "execution_count": null,
   "metadata": {},
   "outputs": [],
   "source": []
  }
 ],
 "metadata": {
  "celltoolbar": "Create Assignment",
  "kernelspec": {
   "display_name": "Python 3",
   "language": "python",
   "name": "python3"
  },
  "language_info": {
   "codemirror_mode": {
    "name": "ipython",
    "version": 3
   },
   "file_extension": ".py",
   "mimetype": "text/x-python",
   "name": "python",
   "nbconvert_exporter": "python",
   "pygments_lexer": "ipython3",
   "version": "3.6.5"
  }
 },
 "nbformat": 4,
 "nbformat_minor": 2
}
