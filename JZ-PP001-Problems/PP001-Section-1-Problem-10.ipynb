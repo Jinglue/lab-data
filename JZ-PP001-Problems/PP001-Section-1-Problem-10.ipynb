{
 "cells": [
  {
   "cell_type": "markdown",
   "metadata": {},
   "source": [
    "# 嵌套列表排序\n",
    "\n",
    "> 题目来自 CodeWars [Sort only integers in Nested List](https://www.codewars.com/kata/sort-only-integers-in-nested-list/train/python)\n",
    "\n",
    "完成函数 `sort_nested_list(nlst)`，参数 `nlst` 是一个嵌套列表，你需要保持 `nlst` 中的嵌套结构不变，只给列表中的整数从小到大排序。例如：\n",
    "\n",
    "```Python\n",
    "Input   : [ [ [ 2, 1 ], [ 4, 3 ] ], [ [ 6, 5 ], [ 8, 7 ] ] ]\n",
    "Output  : [ [ [ 1, 2 ], [ 3, 4 ] ], [ [ 5, 6 ], [ 7, 8 ] ] ]\n",
    "    \n",
    "Input   : [ [ [ 82, 87 ], [ 47, 44 ] ], [ [ 70, 94 ], [ 40, 64 ] ] ]\n",
    "Output  :[ [ [ 40, 44 ], [ 47, 64 ] ], [ [ 70, 82 ], [ 87, 94 ] ] ]\n",
    "```\n",
    "\n",
    "返回排序后的嵌套列表。"
   ]
  },
  {
   "cell_type": "markdown",
   "metadata": {
    "nbgrader": {
     "grade": false,
     "grade_id": "notice",
     "locked": true,
     "schema_version": 1,
     "solution": false
    }
   },
   "source": [
    "请从 `# YOUR CODE HERE` 下方另起一行填写你的答案。\n",
    "\n",
    "**注意**，不要删除 `# YOUR CODE HERE` 注释。"
   ]
  },
  {
   "cell_type": "code",
   "execution_count": 9,
   "metadata": {
    "nbgrader": {
     "grade": false,
     "grade_id": "sort",
     "locked": false,
     "schema_version": 1,
     "solution": true
    }
   },
   "outputs": [],
   "source": [
    "def sort_nested_list(nlst):\n",
    "    ### BEGIN SOLUTION\n",
    "    def fl(l):\n",
    "        for x in l:\n",
    "            if isinstance(x,list):\n",
    "                for j in fl(x):\n",
    "                    yield j\n",
    "            else:\n",
    "                yield x\n",
    "\n",
    "    numbers = iter(sorted(fl(nlst)))\n",
    "    def b(n, nlst):\n",
    "        return [next(n) if isinstance(c, int)else b(n, c) for c in nlst]\n",
    "    return b(numbers, nlst)\n",
    "    ### END SOLUTION"
   ]
  },
  {
   "cell_type": "markdown",
   "metadata": {
    "nbgrader": {
     "grade": false,
     "grade_id": "test_notice",
     "locked": true,
     "schema_version": 1,
     "solution": false
    }
   },
   "source": [
    "提交前请你确保下列 cell 运行时不报错。"
   ]
  },
  {
   "cell_type": "code",
   "execution_count": 10,
   "metadata": {
    "nbgrader": {
     "grade": true,
     "grade_id": "simple_nest",
     "locked": true,
     "points": 50,
     "schema_version": 1,
     "solution": false
    }
   },
   "outputs": [],
   "source": [
    "A=[[[3, 2, 1]]]\n",
    "expected=[[[1, 2, 3]]]\n",
    "assert sort_nested_list(A) == expected\n",
    "### BEGIN HIDDEN TESTS\n",
    "A=[[[3, 2, 1]]]\n",
    "expected=[[[1, 2, 3]]]\n",
    "assert sort_nested_list(A) == expected\n",
    "\n",
    "A=[[[15, 30, 92]]]\n",
    "E2=[[[15, 30, 92]]]\n",
    "assert sort_nested_list(A) == E2\n",
    "### END HIDDEN TESTS"
   ]
  },
  {
   "cell_type": "code",
   "execution_count": 11,
   "metadata": {
    "nbgrader": {
     "grade": true,
     "grade_id": "complex_nest",
     "locked": true,
     "points": 50,
     "schema_version": 1,
     "solution": false
    }
   },
   "outputs": [],
   "source": [
    "A = [ [ [ 82, 87 ], [ 47, 44 ] ], [ [ 70, 94 ], [ 40, 64 ] ] ]\n",
    "expected = [ [ [ 40, 44 ], [ 47, 64 ] ], [ [ 70, 82 ], [ 87, 94 ] ] ]\n",
    "assert sort_nested_list(A) == expected\n",
    "### BEGIN HIDDEN TESTS\n",
    "A=[[[82, 87], [47, 44]], [[70, 94], [40, 64]]]\n",
    "expected=[[[40, 44], [47, 64]], [[70, 82], [87, 94]]]\n",
    "assert sort_nested_list(A) == expected\n",
    "\n",
    "A=[[[29, 32], [82, 61], [75, 91]], [[69, 99], [74, 23], [70, 97]]]\n",
    "E4=[[[23, 29], [32, 61], [69, 70]], [[74, 75], [82, 91], [97, 99]]]\n",
    "assert sort_nested_list(A) == E4\n",
    "\n",
    "A=[[[]]]\n",
    "expected=[[[]]]\n",
    "assert sort_nested_list(A) == expected\n",
    "### END HIDDEN TESTS"
   ]
  }
 ],
 "metadata": {
  "celltoolbar": "Create Assignment",
  "kernelspec": {
   "display_name": "Python 3",
   "language": "python",
   "name": "python3"
  },
  "language_info": {
   "codemirror_mode": {
    "name": "ipython",
    "version": 3
   },
   "file_extension": ".py",
   "mimetype": "text/x-python",
   "name": "python",
   "nbconvert_exporter": "python",
   "pygments_lexer": "ipython3",
   "version": "3.6.5"
  }
 },
 "nbformat": 4,
 "nbformat_minor": 2
}
