{
 "cells": [
  {
   "attachments": {
    "example1.png": {
     "image/png": "[encoded data removed]"
    },
    "example2.png": {
     "image/png": "[encoded data removed]"
    }
   },
   "cell_type": "markdown",
   "metadata": {},
   "source": [
    "# 多边形周长\n",
    "\n",
    "> 题目来自 CodeWars [Polygon Perimeter](https://www.codewars.com/kata/simple-fun-number-85-polygon-perimeter/train/python)\n",
    "\n",
    "给定一个矩阵（棋盘），其中的元素要么是 True（黑格子），要么是 False（白格子）。\n",
    "\n",
    "**注意**，矩阵不一定是方形矩阵。\n",
    "\n",
    "已知黑格子一定是互相接连的，完成函数 `polygon_perimeter(matrix)`，返回黑格子形成的多边形的周长，数法如下图：\n",
    "\n",
    "```\n",
    "matrix = [[false, true,  true ],\n",
    "          [true,  true,  false],\n",
    "          [true,  false, false]]\n",
    "```\n",
    "![example1.png](attachment:example1.png)\n",
    "\n",
    "周长为 12.\n",
    "\n",
    "---\n",
    "\n",
    "```\n",
    "matrix = [[true, true,  true],\n",
    "          [true, false, true],\n",
    "          [true, true,  true]]\n",
    "```\n",
    "\n",
    "![example2.png](attachment:example2.png)\n",
    "\n",
    "周长为 16."
   ]
  },
  {
   "cell_type": "markdown",
   "metadata": {
    "nbgrader": {
     "grade": false,
     "grade_id": "notice",
     "locked": true,
     "schema_version": 1,
     "solution": false
    }
   },
   "source": [
    "请从 `# YOUR CODE HERE` 下方另起一行填写你的答案。\n",
    "\n",
    "**注意**，不要删除 `# YOUR CODE HERE` 注释。"
   ]
  },
  {
   "cell_type": "code",
   "execution_count": 51,
   "metadata": {
    "nbgrader": {
     "grade": false,
     "grade_id": "square",
     "locked": false,
     "schema_version": 1,
     "solution": true
    }
   },
   "outputs": [],
   "source": [
    "def polygon_perimeter(matrix):\n",
    "    ### BEGIN SOLUTION\n",
    "    boundary = (len(matrix) - 1, len(matrix[0]) - 1)\n",
    "    perimeter = 0\n",
    "    for row in range(boundary[0] + 1):\n",
    "        for col in range(boundary[1] + 1):\n",
    "            cell = matrix[row][col]\n",
    "            if cell == True: \n",
    "                perimeter += (row, col).count(0)\n",
    "                if row == boundary[0]: perimeter += 1 \n",
    "                if col == boundary[1]: perimeter += 1\n",
    "                \n",
    "            if row < boundary[0] and matrix[row + 1][col] != cell:\n",
    "                perimeter += 1    \n",
    "            if col < boundary[1] and matrix[row][col + 1] != cell:\n",
    "                perimeter += 1\n",
    "    ### END SOLUTION\n",
    "    return perimeter"
   ]
  },
  {
   "cell_type": "markdown",
   "metadata": {
    "nbgrader": {
     "grade": false,
     "grade_id": "test_notice",
     "locked": true,
     "schema_version": 1,
     "solution": false
    }
   },
   "source": [
    "提交前请你确保下列 cell 运行时不报错。"
   ]
  },
  {
   "cell_type": "code",
   "execution_count": 52,
   "metadata": {
    "nbgrader": {
     "grade": true,
     "grade_id": "square_matrix",
     "locked": true,
     "points": 50,
     "schema_version": 1,
     "solution": false
    }
   },
   "outputs": [],
   "source": [
    "matrix = [\n",
    "[False,True,True], \n",
    "[True,True,False], \n",
    "[True,False,False]]\n",
    "assert polygon_perimeter(matrix) == 12\n",
    "### BEGIN HIDDEN TESTS\n",
    "matrix = [\n",
    "[False,True,True], \n",
    "[True,True,False], \n",
    "[True,False,False]]\n",
    "assert polygon_perimeter(matrix) == 12\n",
    "\n",
    "matrix = [\n",
    "[True,True,True], \n",
    "[True,False,True], \n",
    "[True,True,True]]\n",
    "assert polygon_perimeter(matrix) == 16\n",
    "### END HIDDEN TESTS"
   ]
  },
  {
   "cell_type": "code",
   "execution_count": 53,
   "metadata": {
    "nbgrader": {
     "grade": true,
     "grade_id": "not_square_matrix",
     "locked": true,
     "points": 50,
     "schema_version": 1,
     "solution": false
    }
   },
   "outputs": [],
   "source": [
    "matrix = [\n",
    "[True,True,True,True,True], \n",
    "[True,True,True,True,True]]\n",
    "assert polygon_perimeter(matrix) == 14\n",
    "### BEGIN HIDDEN TESTS\n",
    "matrix = [\n",
    "[True,True,True,True,True], \n",
    "[True,True,True,True,True]]\n",
    "assert polygon_perimeter(matrix) == 14\n",
    "\n",
    "matrix = [\n",
    "[False,False,False,False,False],\n",
    "[False,False,False,False,False]]\n",
    "assert polygon_perimeter(matrix) == 0\n",
    "### END HIDDEN TESTS"
   ]
  },
  {
   "cell_type": "code",
   "execution_count": null,
   "metadata": {},
   "outputs": [],
   "source": []
  }
 ],
 "metadata": {
  "celltoolbar": "Create Assignment",
  "kernelspec": {
   "display_name": "Python 3",
   "language": "python",
   "name": "python3"
  },
  "language_info": {
   "codemirror_mode": {
    "name": "ipython",
    "version": 3
   },
   "file_extension": ".py",
   "mimetype": "text/x-python",
   "name": "python",
   "nbconvert_exporter": "python",
   "pygments_lexer": "ipython3",
   "version": "3.6.5"
  }
 },
 "nbformat": 4,
 "nbformat_minor": 2
}
