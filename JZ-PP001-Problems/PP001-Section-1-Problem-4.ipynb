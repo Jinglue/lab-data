{
 "cells": [
  {
   "attachments": {
    "lk5vJ7sm.jpg": {
     "image/jpeg": "[encoded data removed]"
    }
   },
   "cell_type": "markdown",
   "metadata": {},
   "source": [
    "# 从矩形中切正方形\n",
    "\n",
    "> 题目有改编，原题来自 CodeWars [Rectangle into Squares](https://www.codewars.com/kata/rectangle-into-squares)\n",
    "\n",
    "下图展示了如何“从矩形中切正方形”：\n",
    "\n",
    "![lk5vJ7sm.jpg](attachment:lk5vJ7sm.jpg)\n",
    "\n",
    "即从长方形中切出一个最大的正方形，而后，再从剩余的长方形中切出最大的正方形，不断重复，直至长方形被全部切完。\n",
    "\n",
    "完成函数 `squares_in_rect(lng, wdth)`，参数 `lng` 和 `wdth` 分别为长方形的长和宽（也可能是宽和长，也可能两者相等），以列表的形式，按顺序返回所有切出的正方形的边长。"
   ]
  },
  {
   "cell_type": "markdown",
   "metadata": {
    "nbgrader": {
     "grade": false,
     "grade_id": "notice",
     "locked": true,
     "schema_version": 1,
     "solution": false
    }
   },
   "source": [
    "请从 `# YOUR CODE HERE` 下方另起一行填写你的答案。\n",
    "\n",
    "**注意**，不要删除 `# YOUR CODE HERE` 注释。"
   ]
  },
  {
   "cell_type": "code",
   "execution_count": 1,
   "metadata": {
    "nbgrader": {
     "grade": false,
     "grade_id": "crop",
     "locked": false,
     "schema_version": 1,
     "solution": true
    }
   },
   "outputs": [],
   "source": [
    "def squares_in_rect(lng, wdth):\n",
    "    ### BEGIN SOLUTION\n",
    "    def crop(l, w):\n",
    "        if l == w: return [l]\n",
    "        if l < w: l, w = w, l\n",
    "        return [w] + crop(l - w, w)\n",
    "    \n",
    "    return crop(lng, wdth)\n",
    "    ### END SOLUTION"
   ]
  },
  {
   "cell_type": "markdown",
   "metadata": {
    "nbgrader": {
     "grade": false,
     "grade_id": "test_notice",
     "locked": true,
     "schema_version": 1,
     "solution": false
    }
   },
   "source": [
    "提交前请你确保下列 cell 运行时不报错。"
   ]
  },
  {
   "cell_type": "code",
   "execution_count": 10,
   "metadata": {
    "nbgrader": {
     "grade": true,
     "grade_id": "lng_greater_wdth",
     "locked": true,
     "points": 20,
     "schema_version": 1,
     "solution": false
    }
   },
   "outputs": [],
   "source": [
    "assert squares_in_rect(5, 3) == [3, 2, 1, 1]\n",
    "### BEGIN HIDDEN TESTS\n",
    "assert squares_in_rect(5, 3) == [3, 2, 1, 1]\n",
    "assert squares_in_rect(6, 3) == [3, 3]\n",
    "assert squares_in_rect(7, 3) == [3, 3, 1, 1, 1]\n",
    "### END HIDDEN TESTS"
   ]
  },
  {
   "cell_type": "code",
   "execution_count": 11,
   "metadata": {
    "nbgrader": {
     "grade": true,
     "grade_id": "lng_equal_wdth",
     "locked": true,
     "points": 40,
     "schema_version": 1,
     "solution": false
    }
   },
   "outputs": [],
   "source": [
    "assert squares_in_rect(3, 3) == [3]\n",
    "### BEGIN HIDDEN TESTS\n",
    "assert squares_in_rect(3, 3) == [3]\n",
    "### END HIDDEN TESTS"
   ]
  },
  {
   "cell_type": "code",
   "execution_count": 12,
   "metadata": {
    "nbgrader": {
     "grade": true,
     "grade_id": "lng_less_wdth",
     "locked": true,
     "points": 40,
     "schema_version": 1,
     "solution": false
    }
   },
   "outputs": [],
   "source": [
    "assert squares_in_rect(3, 5) == [3, 2, 1, 1]\n",
    "### BEGIN HIDDEN TESTS\n",
    "assert squares_in_rect(3, 5)     == [3, 2, 1, 1]\n",
    "assert squares_in_rect(8, 12)    == [8, 4, 4]\n",
    "assert squares_in_rect(10, 100) == [10, 10, 10, 10, 10, 10, 10, 10, 10, 10]\n",
    "### END HIDDEN TESTS"
   ]
  },
  {
   "cell_type": "code",
   "execution_count": null,
   "metadata": {},
   "outputs": [],
   "source": []
  }
 ],
 "metadata": {
  "celltoolbar": "Create Assignment",
  "kernelspec": {
   "display_name": "Python 3",
   "language": "python",
   "name": "python3"
  },
  "language_info": {
   "codemirror_mode": {
    "name": "ipython",
    "version": 3
   },
   "file_extension": ".py",
   "mimetype": "text/x-python",
   "name": "python",
   "nbconvert_exporter": "python",
   "pygments_lexer": "ipython3",
   "version": "3.6.5"
  }
 },
 "nbformat": 4,
 "nbformat_minor": 2
}
