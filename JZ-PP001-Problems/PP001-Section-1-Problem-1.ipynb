{
 "cells": [
  {
   "cell_type": "markdown",
   "metadata": {},
   "source": [
    "# 找到奇偶异常值\n",
    "\n",
    "> 题目来自 CodeWars [Find The Parity Outlier](https://www.codewars.com/kata/find-the-parity-outlier)\n",
    "\n",
    "给定一个长度至少为 3 整数列表，其中要么所有数都是奇数，只有一个数是偶数（即本题所说的奇偶异常值）；要么所有数都是偶数，唯独有一个奇数异常值。\n",
    "\n",
    "完成函数 `find_outlier`，返回列表中的这个“奇偶异常值”。\n",
    "\n",
    "输入 / 输出示例见下方的 `assert` cell。"
   ]
  },
  {
   "cell_type": "markdown",
   "metadata": {
    "deletable": false,
    "editable": false,
    "nbgrader": {
     "checksum": "6755e30be53cd22255a44527c93d6edf",
     "grade": false,
     "grade_id": "notice",
     "locked": true,
     "schema_version": 1,
     "solution": false
    }
   },
   "source": [
    "请从 `# YOUR CODE HERE` 下方另起一行填写你的答案。"
   ]
  },
  {
   "cell_type": "code",
   "execution_count": 3,
   "metadata": {
    "deletable": false,
    "nbgrader": {
     "checksum": "d87e860e317018cf79674f6af77f1c48",
     "grade": false,
     "grade_id": "finder",
     "locked": false,
     "schema_version": 1,
     "solution": true
    }
   },
   "outputs": [],
   "source": [
    "def find_outlier(lst):\n",
    "    # YOUR CODE HERE\n",
    "    raise NotImplementedError()"
   ]
  },
  {
   "cell_type": "markdown",
   "metadata": {
    "deletable": false,
    "editable": false,
    "nbgrader": {
     "checksum": "6c8938c717d542da208180c723abe385",
     "grade": false,
     "grade_id": "test_notice",
     "locked": true,
     "schema_version": 1,
     "solution": false
    }
   },
   "source": [
    "提交前请你确保下列 cell 运行时不报错。"
   ]
  },
  {
   "cell_type": "code",
   "execution_count": 4,
   "metadata": {
    "deletable": false,
    "editable": false,
    "nbgrader": {
     "checksum": "3e3a87fb707ce6d7231b8866e5cb6707",
     "grade": true,
     "grade_id": "can_find_odd",
     "locked": true,
     "points": 50,
     "schema_version": 1,
     "solution": false
    }
   },
   "outputs": [],
   "source": [
    "assert find_outlier([2, 4, 6, 8, 10, 3]) == 3\n",
    "assert find_outlier([2, 4, 0, 100, 4, 11, 2602, 36]) == 11"
   ]
  },
  {
   "cell_type": "code",
   "execution_count": 5,
   "metadata": {
    "deletable": false,
    "editable": false,
    "nbgrader": {
     "checksum": "1f1168eeff1b1676fe79feca8a6a7d09",
     "grade": true,
     "grade_id": "can_find_even",
     "locked": true,
     "points": 50,
     "schema_version": 1,
     "solution": false
    }
   },
   "outputs": [],
   "source": [
    "assert find_outlier([1, 3, 5, 7, 9, 2]) == 2\n",
    "assert find_outlier([160, 3, 1719, 19, 11, 13, -21]) == 160"
   ]
  }
 ],
 "metadata": {
  "kernelspec": {
   "display_name": "Python 3",
   "language": "python",
   "name": "python3"
  },
  "language_info": {
   "codemirror_mode": {
    "name": "ipython",
    "version": 3
   },
   "file_extension": ".py",
   "mimetype": "text/x-python",
   "name": "python",
   "nbconvert_exporter": "python",
   "pygments_lexer": "ipython3",
   "version": "3.6.5"
  }
 },
 "nbformat": 4,
 "nbformat_minor": 2
}
