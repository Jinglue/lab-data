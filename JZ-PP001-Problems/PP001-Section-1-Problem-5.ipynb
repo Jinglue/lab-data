{
 "cells": [
  {
   "cell_type": "markdown",
   "metadata": {},
   "source": [
    "# 如果超过 n 次，删！\n",
    "\n",
    "> 题目来自 CodeWars [Delete occurrences of an element if it occurs more than n times](https://www.codewars.com/kata/delete-occurrences-of-an-element-if-it-occurs-more-than-n-times)\n",
    "\n",
    "完成函数 `delete_nth(lst, n)`，参数 `lst` 是一个整数列表，确保任何数字出现次数不超过 n 次。\n",
    "\n",
    "如果列表中有一个数出现超过 n 次，将它超过的部分删除。比如：\n",
    "\n",
    "\n",
    "```Python\n",
    "delete_nth ([1, 1, 1, 1], 2)  # return [1, 1]\n",
    "delete_nth ([20, 37, 20, 21], 1)  # return [20, 37, 21]\n",
    "```"
   ]
  },
  {
   "cell_type": "markdown",
   "metadata": {
    "nbgrader": {
     "grade": false,
     "grade_id": "notice",
     "locked": true,
     "schema_version": 1,
     "solution": false
    }
   },
   "source": [
    "请从 `# YOUR CODE HERE` 下方另起一行填写你的答案。\n",
    "\n",
    "**注意**，不要删除 `# YOUR CODE HERE` 注释。"
   ]
  },
  {
   "cell_type": "code",
   "execution_count": 4,
   "metadata": {
    "nbgrader": {
     "grade": false,
     "grade_id": "delete",
     "locked": false,
     "schema_version": 1,
     "solution": true
    }
   },
   "outputs": [],
   "source": [
    "def delete_nth(lst, n):\n",
    "    ### BEGIN SOLUTION\n",
    "    ans = []\n",
    "    for o in lst:\n",
    "        if ans.count(o) < n: ans.append(o)\n",
    "    return ans\n",
    "    ### END SOLUTION"
   ]
  },
  {
   "cell_type": "markdown",
   "metadata": {
    "nbgrader": {
     "grade": false,
     "grade_id": "test_notice",
     "locked": true,
     "schema_version": 1,
     "solution": false
    }
   },
   "source": [
    "提交前请你确保下列 cell 运行时不报错。"
   ]
  },
  {
   "cell_type": "code",
   "execution_count": 5,
   "metadata": {
    "nbgrader": {
     "grade": true,
     "grade_id": "only_ones",
     "locked": true,
     "points": 20,
     "schema_version": 1,
     "solution": false
    }
   },
   "outputs": [],
   "source": [
    "assert delete_nth([1, 1, 1, 1], 2) == [1, 1]\n",
    "### BEGIN HIDDEN TESTS\n",
    "assert delete_nth([1, 1, 1, 1], 1) == [1]\n",
    "assert delete_nth([1, 1, 1, 1], 2) == [1, 1]\n",
    "assert delete_nth([1, 1, 1, 1], 3) == [1, 1, 1]\n",
    "### END HIDDEN TESTS"
   ]
  },
  {
   "cell_type": "code",
   "execution_count": 6,
   "metadata": {
    "nbgrader": {
     "grade": true,
     "grade_id": "ones_and_others",
     "locked": true,
     "points": 30,
     "schema_version": 1,
     "solution": false
    }
   },
   "outputs": [],
   "source": [
    "assert delete_nth ([20, 37, 20, 21], 1) == [20,37,21]\n",
    "### BEGIN HIDDEN TESTS\n",
    "assert delete_nth ([20, 37, 20, 21], 1) == [20,37,21]\n",
    "assert delete_nth ([20, 37, 20, 21], 2) == [20,37,20,21]\n",
    "### END HIDDEN TESTS"
   ]
  },
  {
   "cell_type": "code",
   "execution_count": 7,
   "metadata": {
    "nbgrader": {
     "grade": true,
     "grade_id": "handle_complex",
     "locked": true,
     "points": 50,
     "schema_version": 1,
     "solution": false
    }
   },
   "outputs": [],
   "source": [
    "assert delete_nth ([1, 1, 3, 3, 7, 2, 2, 2, 2], 3) == [1, 1, 3, 3, 7, 2, 2, 2]\n",
    "### BEGIN HIDDEN TESTS\n",
    "assert delete_nth ([1,1,3,3,7,2,2,2,2], 4) == [1, 1, 3, 3, 7, 2, 2, 2, 2]\n",
    "assert delete_nth ([1,1,3,3,7,2,2,2,2], 3) == [1, 1, 3, 3, 7, 2, 2, 2]\n",
    "assert delete_nth ([1,1,3,3,7,2,2,2,2], 2) == [1, 1, 3, 3, 7, 2, 2]\n",
    "assert delete_nth ([1,1,3,3,7,2,2,2,2], 1) == [1, 3, 7, 2]\n",
    "### END HIDDEN TESTS"
   ]
  },
  {
   "cell_type": "code",
   "execution_count": null,
   "metadata": {},
   "outputs": [],
   "source": []
  }
 ],
 "metadata": {
  "celltoolbar": "Create Assignment",
  "kernelspec": {
   "display_name": "Python 3",
   "language": "python",
   "name": "python3"
  },
  "language_info": {
   "codemirror_mode": {
    "name": "ipython",
    "version": 3
   },
   "file_extension": ".py",
   "mimetype": "text/x-python",
   "name": "python",
   "nbconvert_exporter": "python",
   "pygments_lexer": "ipython3",
   "version": "3.6.5"
  }
 },
 "nbformat": 4,
 "nbformat_minor": 2
}
