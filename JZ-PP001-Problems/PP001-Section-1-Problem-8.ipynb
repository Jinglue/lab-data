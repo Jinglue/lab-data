{
 "cells": [
  {
   "cell_type": "markdown",
   "metadata": {},
   "source": [
    "# 按字母顺序排列\n",
    "\n",
    "> 题目来自 CodeWars [Where is my parent!?(cry)](https://www.codewars.com/kata/where-is-my-parent-cry/solutions/python/me/best_practice)\n",
    "\n",
    "完成函数 `ab_sort(s)`，参数 `s` 是只包含大写与小写英文字母的字符串，返回排序后的 `s`。\n",
    "\n",
    "排序方法：首先按拉丁字母表顺序从小到大排序，然后对于相同的字母，大写在前，小写在后排序，如：`'bBBAaaCCc' -> 'AaaBBbCCc'`"
   ]
  },
  {
   "cell_type": "markdown",
   "metadata": {
    "nbgrader": {
     "grade": false,
     "grade_id": "notice",
     "locked": true,
     "schema_version": 1,
     "solution": false
    }
   },
   "source": [
    "请从 `# YOUR CODE HERE` 下方另起一行填写你的答案。\n",
    "\n",
    "**注意**，不要删除 `# YOUR CODE HERE` 注释。"
   ]
  },
  {
   "cell_type": "code",
   "execution_count": 6,
   "metadata": {
    "nbgrader": {
     "grade": false,
     "grade_id": "ab_sort",
     "locked": false,
     "schema_version": 1,
     "solution": true
    }
   },
   "outputs": [],
   "source": [
    "def ab_sort(s):\n",
    "    ### BEGIN SOLUTION\n",
    "    return ''.join(sorted(s, key=lambda c: (c.lower(), c)))\n",
    "    ### END SOLUTION"
   ]
  },
  {
   "cell_type": "markdown",
   "metadata": {
    "nbgrader": {
     "grade": false,
     "grade_id": "test_notice",
     "locked": true,
     "schema_version": 1,
     "solution": false
    }
   },
   "source": [
    "提交前请你确保下列 cell 运行时不报错。"
   ]
  },
  {
   "cell_type": "code",
   "execution_count": 7,
   "metadata": {
    "nbgrader": {
     "grade": true,
     "grade_id": "test",
     "locked": true,
     "points": 100,
     "schema_version": 1,
     "solution": false
    }
   },
   "outputs": [],
   "source": [
    "assert ab_sort(\"abBA\") == \"AaBb\"\n",
    "### BEGIN HIDDEN TESTS\n",
    "assert ab_sort(\"AaaaaZazzz\") == \"AaaaaaZzzz\"\n",
    "assert ab_sort(\"CbcBcbaA\") == \"AaBbbCcc\"\n",
    "assert ab_sort(\"xXfuUuuF\") == \"FfUuuuXx\"\n",
    "assert ab_sort(\"\") == \"\"\n",
    "### END HIDDEN TESTS"
   ]
  },
  {
   "cell_type": "code",
   "execution_count": null,
   "metadata": {},
   "outputs": [],
   "source": []
  }
 ],
 "metadata": {
  "celltoolbar": "Create Assignment",
  "kernelspec": {
   "display_name": "Python 3",
   "language": "python",
   "name": "python3"
  },
  "language_info": {
   "codemirror_mode": {
    "name": "ipython",
    "version": 3
   },
   "file_extension": ".py",
   "mimetype": "text/x-python",
   "name": "python",
   "nbconvert_exporter": "python",
   "pygments_lexer": "ipython3",
   "version": "3.6.5"
  }
 },
 "nbformat": 4,
 "nbformat_minor": 2
}
