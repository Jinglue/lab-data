{
 "cells": [
  {
   "cell_type": "markdown",
   "metadata": {},
   "source": [
    "# 数根\n",
    "\n",
    "> 题目来自 CodeWars [Sum of Digits / Digital Root](https://www.codewars.com/kata/sum-of-digits-slash-digital-root)\n",
    ">\n",
    "> 数根的定义来自 [数根 - 维基百科](https://zh.wikipedia.org/w/index.php?title=數根&oldid=42879432)\n",
    "\n",
    "完成函数 `digital_root`，给定一个正整数，返回它的数根。\n",
    "\n",
    "数根是将一正整数的各个位数相加（即横向相加），若加完后的值大于10的话，则继续将各位数进行横向相加直到其值小于十为止。如：\n",
    "\n",
    "```\n",
    "digital_root(16)\n",
    "=> 1 + 6\n",
    "=> 7\n",
    "\n",
    "digital_root(942)\n",
    "=> 9 + 4 + 2\n",
    "=> 15 ...\n",
    "=> 1 + 5\n",
    "=> 6\n",
    "\n",
    "digital_root(132189)\n",
    "=> 1 + 3 + 2 + 1 + 8 + 9\n",
    "=> 24 ...\n",
    "=> 2 + 4\n",
    "=> 6\n",
    "\n",
    "digital_root(493193)\n",
    "=> 4 + 9 + 3 + 1 + 9 + 3\n",
    "=> 29 ...\n",
    "=> 2 + 9\n",
    "=> 11 ...\n",
    "=> 1 + 1\n",
    "=> 2\n",
    "```"
   ]
  },
  {
   "cell_type": "markdown",
   "metadata": {
    "deletable": false,
    "editable": false,
    "nbgrader": {
     "checksum": "6755e30be53cd22255a44527c93d6edf",
     "grade": false,
     "grade_id": "notice",
     "locked": true,
     "schema_version": 1,
     "solution": false
    }
   },
   "source": [
    "请从 `# YOUR CODE HERE` 下方另起一行填写你的答案。"
   ]
  },
  {
   "cell_type": "code",
   "execution_count": null,
   "metadata": {
    "deletable": false,
    "nbgrader": {
     "checksum": "fb5366dd335da122635f5007bbe82a7f",
     "grade": false,
     "grade_id": "root",
     "locked": false,
     "schema_version": 1,
     "solution": true
    }
   },
   "outputs": [],
   "source": [
    "def digital_root(n):\n",
    "    # YOUR CODE HERE\n",
    "    raise NotImplementedError()"
   ]
  },
  {
   "cell_type": "markdown",
   "metadata": {
    "deletable": false,
    "editable": false,
    "nbgrader": {
     "checksum": "6c8938c717d542da208180c723abe385",
     "grade": false,
     "grade_id": "test_notice",
     "locked": true,
     "schema_version": 1,
     "solution": false
    }
   },
   "source": [
    "提交前请你确保下列 cell 运行时不报错。"
   ]
  },
  {
   "cell_type": "code",
   "execution_count": null,
   "metadata": {
    "deletable": false,
    "editable": false,
    "nbgrader": {
     "checksum": "d7b929f325bfc78559235bb3fc99d629",
     "grade": true,
     "grade_id": "calc_once",
     "locked": true,
     "points": 50,
     "schema_version": 1,
     "solution": false
    }
   },
   "outputs": [],
   "source": [
    "assert digital_root(16) == 7"
   ]
  },
  {
   "cell_type": "code",
   "execution_count": null,
   "metadata": {
    "deletable": false,
    "editable": false,
    "nbgrader": {
     "checksum": "a6682f0c12c8f96380218c7918674a55",
     "grade": true,
     "grade_id": "calc_multi_times",
     "locked": true,
     "points": 50,
     "schema_version": 1,
     "solution": false
    }
   },
   "outputs": [],
   "source": [
    "assert digital_root(942) == 6\n",
    "assert digital_root(132189) == 6\n",
    "assert digital_root(493193) == 2"
   ]
  }
 ],
 "metadata": {
  "kernelspec": {
   "display_name": "Python 3",
   "language": "python",
   "name": "python3"
  },
  "language_info": {
   "codemirror_mode": {
    "name": "ipython",
    "version": 3
   },
   "file_extension": ".py",
   "mimetype": "text/x-python",
   "name": "python",
   "nbconvert_exporter": "python",
   "pygments_lexer": "ipython3",
   "version": "3.6.5"
  }
 },
 "nbformat": 4,
 "nbformat_minor": 2
}
