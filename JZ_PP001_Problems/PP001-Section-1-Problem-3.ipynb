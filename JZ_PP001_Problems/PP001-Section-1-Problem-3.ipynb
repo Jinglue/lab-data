{
 "cells": [
  {
   "cell_type": "markdown",
   "metadata": {},
   "source": [
    "# 不要再转我的剑了！\n",
    "\n",
    "> 题目来自 CodeWars [Stop gninnipS My sdroW!](https://www.codewars.com/kata/stop-gninnips-my-sdrow)\n",
    "\n",
    "完成函数 `spin_words`，给定一句只包含字母和空格的英文句子，将长度为 5 或以上的单词倒转过来，如：\n",
    "\n",
    "```\n",
    "spin_words(\"Hey fellow warriors\" ) => \"Hey wollef sroirraw\" \n",
    "spin_words(\"This is a test\") => \"This is a test\" \n",
    "spin_words(\"This is another test\" ) => \"This is rehtona test\"\n",
    "```"
   ]
  },
  {
   "cell_type": "markdown",
   "metadata": {
    "deletable": false,
    "editable": false,
    "nbgrader": {
     "checksum": "aeec15e24e450ca8a8ff737b792568e2",
     "grade": false,
     "grade_id": "notice",
     "locked": true,
     "schema_version": 1,
     "solution": false
    }
   },
   "source": [
    "请从 `# YOUR CODE HERE` 下方另起一行填写你的答案。\n",
    "\n",
    "**注意**，不要删除 `# YOUR CODE HERE` 注释。"
   ]
  },
  {
   "cell_type": "code",
   "execution_count": null,
   "metadata": {
    "deletable": false,
    "nbgrader": {
     "checksum": "849ba7b9afaa406950005a20b42ab0f8",
     "grade": false,
     "grade_id": "spin",
     "locked": false,
     "schema_version": 1,
     "solution": true
    }
   },
   "outputs": [],
   "source": [
    "def spin_words(sentence):\n",
    "    # YOUR CODE HERE\n",
    "    raise NotImplementedError()"
   ]
  },
  {
   "cell_type": "markdown",
   "metadata": {
    "deletable": false,
    "editable": false,
    "nbgrader": {
     "checksum": "6c8938c717d542da208180c723abe385",
     "grade": false,
     "grade_id": "test_notice",
     "locked": true,
     "schema_version": 1,
     "solution": false
    }
   },
   "source": [
    "提交前请你确保下列 cell 运行时不报错。"
   ]
  },
  {
   "cell_type": "code",
   "execution_count": null,
   "metadata": {
    "deletable": false,
    "editable": false,
    "nbgrader": {
     "checksum": "1ea0197db4f0f1e27cc16fede966ac03",
     "grade": true,
     "grade_id": "spin_one_word",
     "locked": true,
     "points": 50,
     "schema_version": 1,
     "solution": false
    }
   },
   "outputs": [],
   "source": [
    "assert spin_words('Welcome') == 'emocleW'"
   ]
  },
  {
   "cell_type": "code",
   "execution_count": null,
   "metadata": {
    "deletable": false,
    "editable": false,
    "nbgrader": {
     "checksum": "7def5668ef75c412f6be7a239ca11833",
     "grade": true,
     "grade_id": "spin_multi_words",
     "locked": true,
     "points": 50,
     "schema_version": 1,
     "solution": false
    }
   },
   "outputs": [],
   "source": [
    "assert spin_words( \"Hey fellow warriors\" ) == \"Hey wollef sroirraw\" \n",
    "assert spin_words( \"This is a test\") == \"This is a test\" \n",
    "assert spin_words( \"This is another test\" ) == \"This is rehtona test\""
   ]
  },
  {
   "cell_type": "code",
   "execution_count": null,
   "metadata": {},
   "outputs": [],
   "source": []
  }
 ],
 "metadata": {
  "kernelspec": {
   "display_name": "Python 3",
   "language": "python",
   "name": "python3"
  },
  "language_info": {
   "codemirror_mode": {
    "name": "ipython",
    "version": 3
   },
   "file_extension": ".py",
   "mimetype": "text/x-python",
   "name": "python",
   "nbconvert_exporter": "python",
   "pygments_lexer": "ipython3",
   "version": "3.6.5"
  }
 },
 "nbformat": 4,
 "nbformat_minor": 2
}
