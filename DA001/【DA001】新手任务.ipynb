{
 "cells": [
  {
   "cell_type": "markdown",
   "metadata": {
    "id": "4922787CFD6242E29770B8B8CEFBF140",
    "mdEditEnable": false
   },
   "source": [
    "## 任务 1：增添 cell\n",
    "\n",
    "### **点击此处领取任务。**\n",
    "\n",
    "点击的时候是不是左边变成了蓝色？这说明你选中了这个 cell。同时，这样的长方块就叫 cell。\n",
    "\n",
    "### 现在，点击顶栏中的加号，在下方添加一个 cell。\n",
    "\n",
    "你也可以熟悉熟悉加号右边的几个按钮：剪切、复制、粘贴，上移、下移。\n",
    "\n",
    "### 不用担心不小心把原来的 cell 删除掉。\n",
    "\n",
    "按下键盘 Z 键，可以取消 cell 级别的操作。不过如果你处于编辑 cell 的状态（Cell 的框呈绿色），在按 Z 之前，你需要先按下 Esc 键，或者点击页面两侧的空白处。"
   ]
  },
  {
   "cell_type": "markdown",
   "metadata": {
    "id": "18A35BEC9AFE444083180031412E1BDE",
    "mdEditEnable": false
   },
   "source": [
    "## 任务 2：编辑 cell 内容\n",
    "\n",
    "你可以往「任务 1」中新建的 cell 里填写一些内容。"
   ]
  },
  {
   "cell_type": "markdown",
   "metadata": {
    "id": "005F69A69CCC4C758D1635A505668030",
    "mdEditEnable": false
   },
   "source": [
    "## 任务 3：运行代码\n",
    "\n",
    "选中下方的 cell，点击顶栏中的 `|> Run` 按钮。"
   ]
  },
  {
   "cell_type": "code",
   "execution_count": null,
   "metadata": {
    "id": "2429BA9548D04FCB8BF66CF99AD0681A"
   },
   "outputs": [],
   "source": [
    "print('Hello world.')"
   ]
  },
  {
   "cell_type": "markdown",
   "metadata": {},
   "source": [
    "## 恭喜你\n",
    "\n",
    "你已经学会 Jupyter Notebook 的基本用法了。\n",
    "\n",
    "注意随时保存你的编程进度，尽管 Jupyter 会自动保存。"
   ]
  }
 ],
 "metadata": {
  "kernelspec": {
   "display_name": "Python 3",
   "language": "python",
   "name": "python3"
  },
  "language_info": {
   "codemirror_mode": {
    "name": "ipython",
    "version": 3
   },
   "file_extension": ".py",
   "mimetype": "text/x-python",
   "name": "python",
   "nbconvert_exporter": "python",
   "pygments_lexer": "ipython3",
   "version": "3.6.3"
  }
 },
 "nbformat": 4,
 "nbformat_minor": 1
}
