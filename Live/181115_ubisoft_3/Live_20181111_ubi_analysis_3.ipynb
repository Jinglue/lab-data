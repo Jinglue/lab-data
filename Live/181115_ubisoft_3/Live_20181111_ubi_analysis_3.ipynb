{
 "cells": [
  {
   "cell_type": "markdown",
   "metadata": {},
   "source": [
    "# 0. Pre-processing"
   ]
  },
  {
   "cell_type": "code",
   "execution_count": null,
   "metadata": {},
   "outputs": [],
   "source": [
    "import numpy as np\n",
    "import pandas as pd"
   ]
  },
  {
   "cell_type": "code",
   "execution_count": null,
   "metadata": {},
   "outputs": [],
   "source": [
    "ubi_sales_df = pd.read_csv('Ubisoft_game_sales.csv', parse_dates=['ReleaseDate'])"
   ]
  },
  {
   "cell_type": "code",
   "execution_count": null,
   "metadata": {},
   "outputs": [],
   "source": [
    "ubi_sales_df.info()"
   ]
  },
  {
   "cell_type": "code",
   "execution_count": null,
   "metadata": {},
   "outputs": [],
   "source": [
    "date_parser = lambda date: pd.datetime.strptime(date, '%b %d, %Y')"
   ]
  },
  {
   "cell_type": "code",
   "execution_count": null,
   "metadata": {},
   "outputs": [],
   "source": [
    "ubi_rates_df = pd.read_csv('Ubisoft_game_rates.csv')"
   ]
  },
  {
   "cell_type": "code",
   "execution_count": null,
   "metadata": {},
   "outputs": [],
   "source": [
    "ubi_rates_df = ubi_rates_df[ubi_rates_df['Score'] != 'tbd']\\\n",
    "                           [np.logical_not(ubi_rates_df['Date'].isin(['TBA', 'Canceled']))]"
   ]
  },
  {
   "cell_type": "code",
   "execution_count": null,
   "metadata": {},
   "outputs": [],
   "source": [
    "# 转换数据类型\n",
    "ubi_rates_df['Score'] = pd.to_numeric(ubi_rates_df['Score'])\n",
    "ubi_rates_df['Date'] = pd.to_datetime(ubi_rates_df['Date'])"
   ]
  },
  {
   "cell_type": "code",
   "execution_count": null,
   "metadata": {},
   "outputs": [],
   "source": [
    "ubi_rates_df.info()"
   ]
  },
  {
   "cell_type": "code",
   "execution_count": null,
   "metadata": {},
   "outputs": [],
   "source": [
    "import re"
   ]
  },
  {
   "cell_type": "code",
   "execution_count": null,
   "metadata": {},
   "outputs": [],
   "source": [
    "# pattern to capture platform\n",
    "ptn_1 = re.findall(r'(\\(\\w+\\))$', 'Starlink:(PS4) Battle for Atlas (PS4)')[0][1:-1]"
   ]
  },
  {
   "cell_type": "code",
   "execution_count": null,
   "metadata": {},
   "outputs": [],
   "source": [
    "# pattern to remove platform\n",
    "ptn_2 = re.sub(r' (\\(\\w+\\))$', '', 'Starlink:(PS4) Battle for Atlas (PS4)')"
   ]
  },
  {
   "cell_type": "code",
   "execution_count": null,
   "metadata": {},
   "outputs": [],
   "source": [
    "ubi_rates_df['Platform'] = ubi_rates_df['Title'].apply(lambda x: re.findall(r'(\\(\\w+\\))$', x)[0][1:-1])"
   ]
  },
  {
   "cell_type": "code",
   "execution_count": null,
   "metadata": {},
   "outputs": [],
   "source": [
    "ubi_rates_df['Title'] = ubi_rates_df['Title'].apply(lambda x: re.sub(r' (\\(\\w+\\))$', '', x))"
   ]
  },
  {
   "cell_type": "code",
   "execution_count": null,
   "metadata": {},
   "outputs": [],
   "source": [
    "ubi_rates_df.to_csv('Ubisoft_game_rates_v2.csv')"
   ]
  },
  {
   "cell_type": "code",
   "execution_count": null,
   "metadata": {},
   "outputs": [],
   "source": [
    "# 统一游戏名称\n",
    "def unite_name(name):\n",
    "    x = re.sub(r'[\\:\\/\\.]', '', name.lower())\n",
    "    return re.sub(r'\\s', '-', x)"
   ]
  },
  {
   "cell_type": "code",
   "execution_count": null,
   "metadata": {},
   "outputs": [],
   "source": [
    "# 去除特殊字符\n",
    "ubi_sales_df['Name'].loc[12] = \"Assassin's Creed Rogue Remastered\" # 一个爬虫抓取错误\n",
    "ubi_sales_df['Name'] = ubi_sales_df['Name'].apply(unite_name)"
   ]
  },
  {
   "cell_type": "code",
   "execution_count": null,
   "metadata": {},
   "outputs": [],
   "source": [
    "ubi_rates_df['Title'] = ubi_rates_df['Title'].apply(unite_name)"
   ]
  },
  {
   "cell_type": "markdown",
   "metadata": {},
   "source": [
    "# 1. Merge DataFrame"
   ]
  },
  {
   "cell_type": "code",
   "execution_count": null,
   "metadata": {},
   "outputs": [],
   "source": [
    "ubi_rates = ubi_rates_df.groupby('Title').max()"
   ]
  },
  {
   "cell_type": "code",
   "execution_count": null,
   "metadata": {},
   "outputs": [],
   "source": [
    "ubi_sales = ubi_sales_df.groupby('Name').sum()"
   ]
  },
  {
   "cell_type": "code",
   "execution_count": null,
   "metadata": {},
   "outputs": [],
   "source": [
    "ubi_rates['GlobalSale'] =  [ubi_sales.loc[game]['GlobalSale'] \n",
    "                            if game in ubi_sales.index else np.nan \n",
    "                            for game in ubi_rates.index]"
   ]
  },
  {
   "cell_type": "code",
   "execution_count": null,
   "metadata": {},
   "outputs": [],
   "source": [
    "ubi_rates = ubi_rates[ubi_rates['GlobalSale'].notnull()]"
   ]
  },
  {
   "cell_type": "code",
   "execution_count": null,
   "metadata": {},
   "outputs": [],
   "source": [
    "ubi_rates.drop('Platform', axis=1, inplace=True)"
   ]
  },
  {
   "cell_type": "code",
   "execution_count": null,
   "metadata": {},
   "outputs": [],
   "source": [
    "ubi_rates = ubi_rates.sort_values(['Date', 'GlobalSale', 'Score'])"
   ]
  },
  {
   "cell_type": "code",
   "execution_count": null,
   "metadata": {},
   "outputs": [],
   "source": [
    "ubi_rates.to_csv('Ubisoft_game_rates_v3.csv')"
   ]
  },
  {
   "cell_type": "code",
   "execution_count": null,
   "metadata": {},
   "outputs": [],
   "source": [
    "ubi_rates.info()"
   ]
  },
  {
   "cell_type": "markdown",
   "metadata": {},
   "source": [
    "# 2. Visualization"
   ]
  },
  {
   "cell_type": "code",
   "execution_count": null,
   "metadata": {},
   "outputs": [],
   "source": [
    "ubi_rates = pd.read_csv('Ubisoft_game_rates_v3.csv', parse_dates=['Date'])"
   ]
  },
  {
   "cell_type": "code",
   "execution_count": null,
   "metadata": {},
   "outputs": [],
   "source": [
    "# Stock data\n",
    "ubi_stocks = pd.read_csv('UBI.PA.MONTHLY.csv', \n",
    "                         parse_dates=['Date'], index_col='Date')"
   ]
  },
  {
   "cell_type": "code",
   "execution_count": null,
   "metadata": {},
   "outputs": [],
   "source": [
    "ubi_stocks.head()"
   ]
  },
  {
   "cell_type": "code",
   "execution_count": null,
   "metadata": {},
   "outputs": [],
   "source": [
    "ubi_stock_dates = ubi_stocks.index.to_native_types()"
   ]
  },
  {
   "cell_type": "code",
   "execution_count": null,
   "metadata": {},
   "outputs": [],
   "source": [
    "ubi_prices = ubi_stocks[['Open', 'Close', 'Low', 'High']].values.tolist()"
   ]
  },
  {
   "cell_type": "code",
   "execution_count": null,
   "metadata": {},
   "outputs": [],
   "source": [
    "ubi_release_dates = ubi_rates['Date'].apply(lambda x: x.strftime('%Y-%m-%d')).values.tolist()"
   ]
  },
  {
   "cell_type": "code",
   "execution_count": null,
   "metadata": {},
   "outputs": [],
   "source": [
    "ubi_names = ubi_rates['Title'].tolist()"
   ]
  },
  {
   "cell_type": "code",
   "execution_count": null,
   "metadata": {},
   "outputs": [],
   "source": [
    "ubi_scores =  ubi_rates['Score'].tolist()"
   ]
  },
  {
   "cell_type": "code",
   "execution_count": null,
   "metadata": {},
   "outputs": [],
   "source": [
    "ubi_sales = ubi_rates['GlobalSale'].tolist()"
   ]
  },
  {
   "cell_type": "code",
   "execution_count": null,
   "metadata": {},
   "outputs": [],
   "source": [
    "from pyecharts import Scatter, Line, Kline, Overlap"
   ]
  },
  {
   "cell_type": "code",
   "execution_count": null,
   "metadata": {},
   "outputs": [],
   "source": [
    "def custom_formatter(params):\n",
    "    return params.value[3]"
   ]
  },
  {
   "cell_type": "code",
   "execution_count": null,
   "metadata": {},
   "outputs": [],
   "source": [
    "sc = Scatter('Ubi game rating')"
   ]
  },
  {
   "cell_type": "code",
   "execution_count": null,
   "metadata": {},
   "outputs": [],
   "source": [
    "sc.add(\"Game rating\",\n",
    "        ubi_release_dates,\n",
    "        ubi_scores,\n",
    "        extra_data=ubi_sales,\n",
    "        extra_name=ubi_names,\n",
    "        is_visualmap=True,\n",
    "        is_datazoom_show=True,\n",
    "        datazoom_xaxis_index=[0, 1],\n",
    "        xaxis_type='time',\n",
    "        xaxis_min = '1999-12-31',\n",
    "        xaxis_max = '2018-11-05',\n",
    "        symbol_size=8,\n",
    "        alpha=0.5,\n",
    "        visual_dimension=2,\n",
    "        visual_range=[0, 10],\n",
    "        tooltip_formatter=custom_formatter)"
   ]
  },
  {
   "cell_type": "code",
   "execution_count": null,
   "metadata": {},
   "outputs": [],
   "source": [
    "kl = Kline('Ubi stock prices')"
   ]
  },
  {
   "cell_type": "code",
   "execution_count": null,
   "metadata": {},
   "outputs": [],
   "source": [
    "kl.add('Stock price', ubi_stock_dates, ubi_prices,\n",
    "      is_datazoom_show=True, \n",
    "      is_splitline_show=False, \n",
    "      yaxis_max=150)"
   ]
  },
  {
   "cell_type": "code",
   "execution_count": null,
   "metadata": {},
   "outputs": [],
   "source": [
    "ov = Overlap()"
   ]
  },
  {
   "cell_type": "code",
   "execution_count": null,
   "metadata": {},
   "outputs": [],
   "source": [
    "ov.add(sc)\n",
    "ov.add(kl, xaxis_index=1, yaxis_index=1,\n",
    "          is_add_xaxis=True, is_add_yaxis=True)"
   ]
  },
  {
   "cell_type": "code",
   "execution_count": null,
   "metadata": {},
   "outputs": [],
   "source": [
    "ov.show_config()"
   ]
  },
  {
   "cell_type": "code",
   "execution_count": null,
   "metadata": {},
   "outputs": [],
   "source": []
  }
 ],
 "metadata": {
  "kernelspec": {
   "display_name": "Python 3",
   "language": "python",
   "name": "python3"
  },
  "language_info": {
   "codemirror_mode": {
    "name": "ipython",
    "version": 3
   },
   "file_extension": ".py",
   "mimetype": "text/x-python",
   "name": "python",
   "nbconvert_exporter": "python",
   "pygments_lexer": "ipython3",
   "version": "3.6.5"
  },
  "toc": {
   "base_numbering": 1,
   "nav_menu": {},
   "number_sections": false,
   "sideBar": false,
   "skip_h1_title": false,
   "title_cell": "Table of Contents",
   "title_sidebar": "Contents",
   "toc_cell": false,
   "toc_position": {},
   "toc_section_display": false,
   "toc_window_display": false
  }
 },
 "nbformat": 4,
 "nbformat_minor": 2
}
