{
 "cells": [
  {
   "cell_type": "markdown",
   "metadata": {},
   "source": [
    "# 0. Web Crawler"
   ]
  },
  {
   "cell_type": "code",
   "execution_count": null,
   "metadata": {},
   "outputs": [],
   "source": [
    "import requests\n",
    "from bs4 import BeautifulSoup"
   ]
  },
  {
   "cell_type": "code",
   "execution_count": null,
   "metadata": {},
   "outputs": [],
   "source": [
    "base_url = 'https://weibo.com/liuxiaolingtong'"
   ]
  },
  {
   "cell_type": "code",
   "execution_count": null,
   "metadata": {},
   "outputs": [],
   "source": [
    "headers = {'User-Agent':'Mozilla/5.0 (Windows NT 10.0; WOW64) AppleWebKit/537.36 (KHTML, like Gecko) Chrome/63.0.3239.26 Safari/537.36 Core/1.63.6788.400 QQBrowser/10.3.2727.400'}"
   ]
  },
  {
   "cell_type": "code",
   "execution_count": null,
   "metadata": {},
   "outputs": [],
   "source": [
    "response = requests.get(base_url, headers=headers)"
   ]
  },
  {
   "cell_type": "code",
   "execution_count": null,
   "metadata": {},
   "outputs": [],
   "source": [
    "response.status_code"
   ]
  },
  {
   "cell_type": "code",
   "execution_count": null,
   "metadata": {
    "scrolled": true
   },
   "outputs": [],
   "source": [
    "response.text"
   ]
  },
  {
   "cell_type": "markdown",
   "metadata": {},
   "source": [
    "## Selenium"
   ]
  },
  {
   "cell_type": "code",
   "execution_count": null,
   "metadata": {},
   "outputs": [],
   "source": [
    "from selenium import webdriver"
   ]
  },
  {
   "cell_type": "code",
   "execution_count": null,
   "metadata": {},
   "outputs": [],
   "source": [
    "chrome_options = webdriver.ChromeOptions()\n",
    "chrome_options.headless = True"
   ]
  },
  {
   "cell_type": "code",
   "execution_count": null,
   "metadata": {},
   "outputs": [],
   "source": [
    "driver = webdriver.Chrome(executable_path='G:\\Code Python\\Data Science\\chromedriver.exe', options=chrome_options)"
   ]
  },
  {
   "cell_type": "code",
   "execution_count": null,
   "metadata": {},
   "outputs": [],
   "source": [
    "driver.get(base_url)"
   ]
  },
  {
   "cell_type": "code",
   "execution_count": null,
   "metadata": {},
   "outputs": [],
   "source": [
    "driver.current_url"
   ]
  },
  {
   "cell_type": "code",
   "execution_count": null,
   "metadata": {},
   "outputs": [],
   "source": [
    "html_doc = driver.page_source"
   ]
  },
  {
   "cell_type": "code",
   "execution_count": null,
   "metadata": {},
   "outputs": [],
   "source": [
    "soup = BeautifulSoup(html_doc, 'html5lib')"
   ]
  },
  {
   "cell_type": "code",
   "execution_count": null,
   "metadata": {},
   "outputs": [],
   "source": [
    "feeds = soup.find_all(class_='WB_feed_detail')"
   ]
  },
  {
   "cell_type": "code",
   "execution_count": null,
   "metadata": {},
   "outputs": [],
   "source": [
    "len(feeds)"
   ]
  },
  {
   "cell_type": "markdown",
   "metadata": {},
   "source": [
    "## Mobile"
   ]
  },
  {
   "cell_type": "code",
   "execution_count": null,
   "metadata": {},
   "outputs": [],
   "source": [
    "mobile_url = 'https://m.weibo.cn/u/1211441627'"
   ]
  },
  {
   "cell_type": "code",
   "execution_count": null,
   "metadata": {},
   "outputs": [],
   "source": [
    "driver.get(mobile_url)"
   ]
  },
  {
   "cell_type": "code",
   "execution_count": null,
   "metadata": {},
   "outputs": [],
   "source": [
    "html_doc = driver.page_source"
   ]
  },
  {
   "cell_type": "code",
   "execution_count": null,
   "metadata": {},
   "outputs": [],
   "source": [
    "soup = BeautifulSoup(html_doc, 'lxml')"
   ]
  },
  {
   "cell_type": "code",
   "execution_count": null,
   "metadata": {},
   "outputs": [],
   "source": [
    "len(soup.find_all(class_='card', attrs='m-panel'))"
   ]
  },
  {
   "cell_type": "code",
   "execution_count": null,
   "metadata": {},
   "outputs": [],
   "source": [
    "js_load_page = '''\n",
    "xmlhttp = new XMLHttpRequest();\n",
    "xmlhttp.open(\"GET\",\"https://m.weibo.cn/api/container/getIndex?type=uid&value=1211441627&containerid=1076031211441627&page=3\",true);\n",
    "xmlhttp.setRequestHeader(\"Accept\", \"application/json, text/plain, */*\");\n",
    "xmlhttp.setRequestHeader(\"MWeibo-Pwa\", \"1\");\n",
    "xmlhttp.setRequestHeader(\"X-Requested-With\", \"XMLHttpRequest\");\n",
    "xmlhttp.send(null);\n",
    "'''"
   ]
  },
  {
   "cell_type": "code",
   "execution_count": null,
   "metadata": {
    "scrolled": true
   },
   "outputs": [],
   "source": [
    "driver.execute_async_script(script=js_load_page)"
   ]
  },
  {
   "cell_type": "markdown",
   "metadata": {},
   "source": [
    "## Mobile + XHR + JSON"
   ]
  },
  {
   "cell_type": "code",
   "execution_count": null,
   "metadata": {},
   "outputs": [],
   "source": [
    "xhr_url = 'https://m.weibo.cn/api/container/getIndex'\n",
    "\n",
    "params = {'type':'uid',\n",
    "          'value':'1211441627',\n",
    "          'containerid':'1076031211441627',\n",
    "          'page':1}"
   ]
  },
  {
   "cell_type": "code",
   "execution_count": null,
   "metadata": {},
   "outputs": [],
   "source": [
    "response = requests.get(xhr_url, params=params)"
   ]
  },
  {
   "cell_type": "code",
   "execution_count": null,
   "metadata": {},
   "outputs": [],
   "source": [
    "feed_dict = response.json()"
   ]
  },
  {
   "cell_type": "code",
   "execution_count": null,
   "metadata": {
    "scrolled": false
   },
   "outputs": [],
   "source": [
    "feed_dict['ok']"
   ]
  },
  {
   "cell_type": "code",
   "execution_count": null,
   "metadata": {},
   "outputs": [],
   "source": [
    "sample_feed = feed_dict['data']['cards'][2]"
   ]
  },
  {
   "cell_type": "code",
   "execution_count": null,
   "metadata": {},
   "outputs": [],
   "source": [
    "sample_feed['mblog']['text']"
   ]
  },
  {
   "cell_type": "code",
   "execution_count": null,
   "metadata": {},
   "outputs": [],
   "source": [
    "sample_feed['mblog']['reposts_count']\n",
    "sample_feed['mblog']['comments_count']\n",
    "sample_feed['mblog']['attitudes_count']"
   ]
  },
  {
   "cell_type": "code",
   "execution_count": null,
   "metadata": {},
   "outputs": [],
   "source": [
    "from tqdm import tqdm_notebook"
   ]
  },
  {
   "cell_type": "code",
   "execution_count": null,
   "metadata": {},
   "outputs": [],
   "source": [
    "posts = []"
   ]
  },
  {
   "cell_type": "code",
   "execution_count": null,
   "metadata": {},
   "outputs": [],
   "source": [
    "for page in tqdm_notebook(range(1, 1000)):\n",
    "    params['page'] = page\n",
    "    response = requests.get(xhr_url, params=params)\n",
    "    feed_dict = response.json()\n",
    "    \n",
    "    print(\"\\n>>>> PAGE: {} <<<<\".format(page))\n",
    "    \n",
    "    if feed_dict['ok'] == 1:\n",
    "        # 当页微博数\n",
    "        nb_blogs = len(feed_dict['data']['cards'])\n",
    "        \n",
    "        for i in range(nb_blogs):\n",
    "            # 普通微博\n",
    "            if feed_dict['data']['cards'][i]['card_type'] == 9:\n",
    "            \n",
    "                mblog = feed_dict['data']['cards'][i]['mblog']\n",
    "                mblog_id = mblog['id']\n",
    "                date = mblog['created_at']\n",
    "                text = mblog['text']\n",
    "                device = mblog['source']\n",
    "                reposts_count = mblog['reposts_count']\n",
    "                comments_count = mblog['comments_count']\n",
    "                attitudes_count = mblog['attitudes_count']\n",
    "\n",
    "                print(\">>>> {} {}<<<<\".format(date, text[:30]))\n",
    "                posts.append([mblog_id, date, text, reposts_count, comments_count, attitudes_count])\n",
    "    \n",
    "    else:\n",
    "        break"
   ]
  },
  {
   "cell_type": "markdown",
   "metadata": {},
   "source": [
    "# 1. Data Clearning"
   ]
  },
  {
   "cell_type": "code",
   "execution_count": null,
   "metadata": {},
   "outputs": [],
   "source": [
    "import numpy as np\n",
    "import pandas as pd"
   ]
  },
  {
   "cell_type": "code",
   "execution_count": null,
   "metadata": {},
   "outputs": [],
   "source": [
    "mblog_df = pd.DataFrame(posts)\n",
    "mblog_df.columns = ['id', 'date', 'text', 'reposts', 'comments', 'like']"
   ]
  },
  {
   "cell_type": "code",
   "execution_count": null,
   "metadata": {},
   "outputs": [],
   "source": [
    "mblog_df.head()"
   ]
  },
  {
   "cell_type": "code",
   "execution_count": null,
   "metadata": {},
   "outputs": [],
   "source": [
    "mblog_df[:3]['date'] = '11-14'"
   ]
  },
  {
   "cell_type": "code",
   "execution_count": null,
   "metadata": {},
   "outputs": [],
   "source": [
    "def complete_date(date):\n",
    "    \n",
    "    if len(date) < 6:\n",
    "        return '2018-' + date\n",
    "    \n",
    "    else:\n",
    "        return date"
   ]
  },
  {
   "cell_type": "code",
   "execution_count": null,
   "metadata": {},
   "outputs": [],
   "source": [
    "mblog_df['date'] = mblog_df['date'].apply(complete_date)"
   ]
  },
  {
   "cell_type": "code",
   "execution_count": null,
   "metadata": {},
   "outputs": [],
   "source": [
    "mblog_df['date'] = pd.to_datetime(mblog_df['date'])"
   ]
  },
  {
   "cell_type": "code",
   "execution_count": null,
   "metadata": {},
   "outputs": [],
   "source": [
    "#mblog_df = pd.read_csv('six_little_child_weibo_181115.csv', index_col='id')"
   ]
  },
  {
   "cell_type": "code",
   "execution_count": null,
   "metadata": {},
   "outputs": [],
   "source": [
    "mblog_df.to_csv('six_little_child_weibo_181115.csv', index_label='id')"
   ]
  },
  {
   "cell_type": "code",
   "execution_count": null,
   "metadata": {},
   "outputs": [],
   "source": [
    "import matplotlib.pyplot as plt\n",
    "%matplotlib inline"
   ]
  },
  {
   "cell_type": "code",
   "execution_count": null,
   "metadata": {},
   "outputs": [],
   "source": [
    "soup = BeautifulSoup(mblog_df.iloc[1]['text'], 'html.parser')"
   ]
  },
  {
   "cell_type": "code",
   "execution_count": null,
   "metadata": {},
   "outputs": [],
   "source": [
    "at_dict = {}"
   ]
  },
  {
   "cell_type": "code",
   "execution_count": null,
   "metadata": {},
   "outputs": [],
   "source": [
    "def get_at(text):\n",
    "    at_list = []\n",
    "    soup = BeautifulSoup(text, 'lxml')\n",
    "    \n",
    "    # 如果本条微博内有外链\n",
    "    if soup.find_all('a'):\n",
    "        # 遍历外链\n",
    "        for a in soup.find_all('a'):\n",
    "            # 是否为@\n",
    "            if '@' in a.text:\n",
    "                at_user = a.text[1:]\n",
    "                at_list.append(at_user)\n",
    "            \n",
    "                if at_user in at_dict:\n",
    "                    at_dict[at_user] += 1\n",
    "                else:\n",
    "                    at_dict[at_user] = 1\n",
    "                \n",
    "    return at_list"
   ]
  },
  {
   "cell_type": "code",
   "execution_count": null,
   "metadata": {},
   "outputs": [],
   "source": [
    "mblog_df['at'] = mblog_df['text'].apply(get_at)"
   ]
  },
  {
   "cell_type": "code",
   "execution_count": null,
   "metadata": {},
   "outputs": [],
   "source": [
    "img_response = requests.get('http:'+'//h5.sinaimg.cn/m/emoticon/icon/others/h_woshou-9ec25c8391.png')"
   ]
  },
  {
   "cell_type": "code",
   "execution_count": null,
   "metadata": {},
   "outputs": [],
   "source": [
    "with open('woshou.png', 'wb') as f:\n",
    "    f.write(img_response.content)"
   ]
  },
  {
   "cell_type": "code",
   "execution_count": null,
   "metadata": {},
   "outputs": [],
   "source": [
    "emoji_dict = {}\n",
    "\n",
    "def get_emoji(text):    \n",
    "    emoji_list = []\n",
    "    soup = BeautifulSoup(text, 'lxml')\n",
    "    # 如果本条微博有图标\n",
    "    if soup.find_all(class_='url-icon'):\n",
    "        # 遍历图标\n",
    "        for span in soup.find_all('span', class_='url-icon'):\n",
    "            # 如果该图标是表情\n",
    "            if 'alt' in span.img.attrs:\n",
    "                emoji_id = span.img['alt'][1:-1]\n",
    "                emoji_src = span.img['src']\n",
    "                emoji_list.append(emoji_id)\n",
    "\n",
    "                if emoji_id not in emoji_dict:\n",
    "                    emoji_dict[emoji_id] = 1\n",
    "                    \n",
    "                    img_response = requests.get('http:' + emoji_src)\n",
    "                    with open('emoji/{}.png'.format(emoji_id), 'wb') as f:\n",
    "                        f.write(img_response.content)\n",
    "                else:\n",
    "                    emoji_dict[emoji_id] += 1\n",
    "    \n",
    "    return emoji_list"
   ]
  },
  {
   "cell_type": "code",
   "execution_count": null,
   "metadata": {},
   "outputs": [],
   "source": [
    "mblog_df['emoji'] = mblog_df['text'].apply(get_emoji)"
   ]
  },
  {
   "cell_type": "code",
   "execution_count": null,
   "metadata": {},
   "outputs": [],
   "source": [
    "mblog_df.head()"
   ]
  },
  {
   "cell_type": "code",
   "execution_count": null,
   "metadata": {},
   "outputs": [],
   "source": [
    "at_df = pd.DataFrame.from_dict(columns=['counts'], orient='index', data=at_dict).sort_values('counts', ascending=False)"
   ]
  },
  {
   "cell_type": "code",
   "execution_count": null,
   "metadata": {},
   "outputs": [],
   "source": [
    "at_df.head()"
   ]
  },
  {
   "cell_type": "code",
   "execution_count": null,
   "metadata": {},
   "outputs": [],
   "source": [
    "emoji_df = pd.DataFrame.from_dict(columns=['counts'], orient='index', data=emoji_dict).sort_values('counts', ascending=False)"
   ]
  },
  {
   "cell_type": "code",
   "execution_count": null,
   "metadata": {},
   "outputs": [],
   "source": [
    "emoji_df.head(10)"
   ]
  },
  {
   "cell_type": "markdown",
   "metadata": {},
   "source": [
    "# 2. Visualization"
   ]
  },
  {
   "cell_type": "code",
   "execution_count": null,
   "metadata": {},
   "outputs": [],
   "source": [
    "from pyecharts import Bar, Scatter"
   ]
  },
  {
   "cell_type": "code",
   "execution_count": null,
   "metadata": {},
   "outputs": [],
   "source": [
    "bar = Bar(\"六小龄童最常用的表情(Top 10)\")"
   ]
  },
  {
   "cell_type": "code",
   "execution_count": null,
   "metadata": {},
   "outputs": [],
   "source": [
    "bar.add('Emoji', emoji_df[:10].index, emoji_df['counts'][:10], \n",
    "        xaxis_interval=0, xaxis_rotate=90, xaxis_label_textsize=18)"
   ]
  },
  {
   "cell_type": "code",
   "execution_count": null,
   "metadata": {},
   "outputs": [],
   "source": [
    "scatter = Scatter(\"六小龄童最常用的表情\")"
   ]
  },
  {
   "cell_type": "code",
   "execution_count": null,
   "metadata": {},
   "outputs": [],
   "source": [
    "scatter.add('Emoji', emoji_df.index, emoji_df['counts'],\n",
    "            xaxis_type='category', is_visualmap=True, visual_type='size', \n",
    "            visual_dimension=1,visual_range=[1,1600])"
   ]
  },
  {
   "cell_type": "code",
   "execution_count": null,
   "metadata": {},
   "outputs": [],
   "source": [
    "bar_at = Bar(\"六小龄童最常@的账号(Top 20)\")"
   ]
  },
  {
   "cell_type": "code",
   "execution_count": null,
   "metadata": {
    "scrolled": false
   },
   "outputs": [],
   "source": [
    "bar_at.add('@', at_df.index[:20], at_df['counts'][:20], \n",
    "            xaxis_interval=0, xaxis_rotate=30, xaxis_name_size=10)"
   ]
  },
  {
   "cell_type": "markdown",
   "metadata": {},
   "source": [
    "# 3. WordCloud"
   ]
  },
  {
   "cell_type": "code",
   "execution_count": null,
   "metadata": {},
   "outputs": [],
   "source": [
    "import jieba\n",
    "from wordcloud import WordCloud, STOPWORDS, ImageColorGenerator"
   ]
  },
  {
   "cell_type": "code",
   "execution_count": null,
   "metadata": {},
   "outputs": [],
   "source": [
    "six_weibo_list = [BeautifulSoup(mblog_df.loc[i, 'text'], 'html.parser').text for i in mblog_df.index]"
   ]
  },
  {
   "cell_type": "code",
   "execution_count": null,
   "metadata": {},
   "outputs": [],
   "source": [
    "six_weibo_texts = ''.join(six_weibo_list)"
   ]
  },
  {
   "cell_type": "code",
   "execution_count": null,
   "metadata": {},
   "outputs": [],
   "source": [
    "seg_gen = jieba.cut(six_weibo_texts, cut_all=False)"
   ]
  },
  {
   "cell_type": "code",
   "execution_count": null,
   "metadata": {},
   "outputs": [],
   "source": [
    "seg_list = [i for i in seg_gen]"
   ]
  },
  {
   "cell_type": "code",
   "execution_count": null,
   "metadata": {},
   "outputs": [],
   "source": [
    "seg_texts = ' '.join(seg_list)"
   ]
  },
  {
   "cell_type": "code",
   "execution_count": null,
   "metadata": {},
   "outputs": [],
   "source": [
    "from PIL import Image"
   ]
  },
  {
   "cell_type": "code",
   "execution_count": null,
   "metadata": {},
   "outputs": [],
   "source": [
    "monkey_mask=np.array(Image.open(\"images/wukong.jpg\"))"
   ]
  },
  {
   "cell_type": "code",
   "execution_count": null,
   "metadata": {},
   "outputs": [],
   "source": [
    "stopwords=set(STOPWORDS) | {'网页', '链接', '微博', '博文'}"
   ]
  },
  {
   "cell_type": "code",
   "execution_count": null,
   "metadata": {},
   "outputs": [],
   "source": [
    "wordcloud = WordCloud(background_color='white', font_path='C:\\Windows\\Fonts\\simhei.ttf',\n",
    "                      max_words=200, collocations=False, mask=monkey_mask,\n",
    "                      stopwords=stopwords)"
   ]
  },
  {
   "cell_type": "code",
   "execution_count": null,
   "metadata": {},
   "outputs": [],
   "source": [
    "wordcloud.generate(text=seg_texts)"
   ]
  },
  {
   "cell_type": "code",
   "execution_count": null,
   "metadata": {},
   "outputs": [],
   "source": [
    "wordcloud.to_file('six_wordcloud.jpg')"
   ]
  },
  {
   "cell_type": "code",
   "execution_count": null,
   "metadata": {},
   "outputs": [],
   "source": [
    "fig = plt.figure(figsize=(10,10))\n",
    "ax = fig.add_subplot(1, 1, 1) \n",
    "\n",
    "image_colors = ImageColorGenerator(monkey_mask)\n",
    "plt.imshow(wordcloud.recolor(color_func=image_colors))\n",
    "plt.axis(\"off\")\n",
    "plt.show()"
   ]
  },
  {
   "cell_type": "markdown",
   "metadata": {},
   "source": [
    "# 4. Text Generation"
   ]
  },
  {
   "cell_type": "code",
   "execution_count": null,
   "metadata": {},
   "outputs": [],
   "source": [
    "from gensim.models import KeyedVectors"
   ]
  },
  {
   "cell_type": "code",
   "execution_count": null,
   "metadata": {},
   "outputs": [],
   "source": []
  },
  {
   "cell_type": "code",
   "execution_count": null,
   "metadata": {},
   "outputs": [],
   "source": []
  }
 ],
 "metadata": {
  "kernelspec": {
   "display_name": "Python 3",
   "language": "python",
   "name": "python3"
  },
  "language_info": {
   "codemirror_mode": {
    "name": "ipython",
    "version": 3
   },
   "file_extension": ".py",
   "mimetype": "text/x-python",
   "name": "python",
   "nbconvert_exporter": "python",
   "pygments_lexer": "ipython3",
   "version": "3.6.5"
  },
  "toc": {
   "base_numbering": 1,
   "nav_menu": {},
   "number_sections": false,
   "sideBar": false,
   "skip_h1_title": false,
   "title_cell": "Table of Contents",
   "title_sidebar": "Contents",
   "toc_cell": false,
   "toc_position": {},
   "toc_section_display": false,
   "toc_window_display": false
  }
 },
 "nbformat": 4,
 "nbformat_minor": 2
}
